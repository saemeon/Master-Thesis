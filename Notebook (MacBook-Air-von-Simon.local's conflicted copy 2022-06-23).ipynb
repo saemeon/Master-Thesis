{
 "cells": [
  {
   "cell_type": "markdown",
   "id": "01555ea2-8149-4598-8b7c-eb7b8d934d52",
   "metadata": {},
   "source": [
    "# Tutorial Sub-aggregated Temporal network "
   ]
  },
  {
   "cell_type": "code",
   "execution_count": 32,
   "id": "0bbe763b-582e-4d21-933d-fba846fd6476",
   "metadata": {
    "ExecuteTime": {
     "end_time": "2020-12-16T19:56:24.047879Z",
     "start_time": "2020-12-16T19:56:21.108587Z"
    }
   },
   "outputs": [
    {
     "name": "stdout",
     "output_type": "stream",
     "text": [
      "The autoreload extension is already loaded. To reload it, use:\n",
      "  %reload_ext autoreload\n"
     ]
    }
   ],
   "source": [
    "#load relevant Classes and functions\n",
    "from Code import *\n",
    "\n",
    "%load_ext autoreload\n",
    "%autoreload 2\n",
    "%matplotlib inline"
   ]
  },
  {
   "cell_type": "markdown",
   "id": "d51cd0b6-c437-4480-aec4-edf90a9572a1",
   "metadata": {
    "tags": []
   },
   "source": [
    "# To-Do\n",
    "2. implement sampling procedure that takes network and returns ensamble of randomized networks\n",
    "- start with simple homogeneous random removal / adding of edges\n",
    "3.  implement evaluation metric\n",
    "- start with resulting estimator as function of removal probability. \n"
   ]
  },
  {
   "cell_type": "code",
   "execution_count": 33,
   "id": "d4c0e229-d18d-4a16-b8b0-cf3c5dd0dcc7",
   "metadata": {},
   "outputs": [],
   "source": [
    "C = Class()\n"
   ]
  },
  {
   "cell_type": "code",
   "execution_count": 36,
   "id": "f7d6983a-e060-4285-ac72-6625c14d39dd",
   "metadata": {},
   "outputs": [
    {
     "name": "stdout",
     "output_type": "stream",
     "text": [
      "None\n"
     ]
    },
    {
     "data": {
      "image/png": "[encoded data removed]",
      "text/plain": [
       "<Figure size 432x288 with 1 Axes>"
      ]
     },
     "metadata": {
      "needs_background": "light"
     },
     "output_type": "display_data"
    }
   ],
   "source": [
    "print(C.run(10))\n"
   ]
  },
  {
   "cell_type": "code",
   "execution_count": 28,
   "id": "0af48275-a1c6-4e62-8971-7e440c4478e7",
   "metadata": {},
   "outputs": [
    {
     "ename": "LinAlgError",
     "evalue": "0-dimensional array given. Array must be at least two-dimensional",
     "output_type": "error",
     "traceback": [
      "\u001b[0;31m---------------------------------------------------------------------------\u001b[0m",
      "\u001b[0;31mLinAlgError\u001b[0m                               Traceback (most recent call last)",
      "\u001b[0;32m/var/folders/mq/5nwv0wvd4pbg5sj9prh6kh_w0000gn/T/ipykernel_17181/3749617547.py\u001b[0m in \u001b[0;36m<module>\u001b[0;34m\u001b[0m\n\u001b[0;32m----> 1\u001b[0;31m \u001b[0mnp\u001b[0m\u001b[0;34m.\u001b[0m\u001b[0mlinalg\u001b[0m\u001b[0;34m.\u001b[0m\u001b[0minv\u001b[0m\u001b[0;34m(\u001b[0m\u001b[0mnp\u001b[0m\u001b[0;34m.\u001b[0m\u001b[0marray\u001b[0m\u001b[0;34m(\u001b[0m\u001b[0mnp\u001b[0m\u001b[0;34m.\u001b[0m\u001b[0mdot\u001b[0m\u001b[0;34m(\u001b[0m\u001b[0mEhatO\u001b[0m\u001b[0;34m.\u001b[0m\u001b[0mtranspose\u001b[0m\u001b[0;34m(\u001b[0m\u001b[0;34m)\u001b[0m\u001b[0;34m,\u001b[0m\u001b[0mEhatO\u001b[0m\u001b[0;34m)\u001b[0m\u001b[0;34m)\u001b[0m\u001b[0;34m)\u001b[0m\u001b[0;34m\u001b[0m\u001b[0;34m\u001b[0m\u001b[0m\n\u001b[0m",
      "\u001b[0;32m<__array_function__ internals>\u001b[0m in \u001b[0;36minv\u001b[0;34m(*args, **kwargs)\u001b[0m\n",
      "\u001b[0;32m~/opt/anaconda3/lib/python3.9/site-packages/numpy/linalg/linalg.py\u001b[0m in \u001b[0;36minv\u001b[0;34m(a)\u001b[0m\n\u001b[1;32m    537\u001b[0m     \"\"\"\n\u001b[1;32m    538\u001b[0m     \u001b[0ma\u001b[0m\u001b[0;34m,\u001b[0m \u001b[0mwrap\u001b[0m \u001b[0;34m=\u001b[0m \u001b[0m_makearray\u001b[0m\u001b[0;34m(\u001b[0m\u001b[0ma\u001b[0m\u001b[0;34m)\u001b[0m\u001b[0;34m\u001b[0m\u001b[0;34m\u001b[0m\u001b[0m\n\u001b[0;32m--> 539\u001b[0;31m     \u001b[0m_assert_stacked_2d\u001b[0m\u001b[0;34m(\u001b[0m\u001b[0ma\u001b[0m\u001b[0;34m)\u001b[0m\u001b[0;34m\u001b[0m\u001b[0;34m\u001b[0m\u001b[0m\n\u001b[0m\u001b[1;32m    540\u001b[0m     \u001b[0m_assert_stacked_square\u001b[0m\u001b[0;34m(\u001b[0m\u001b[0ma\u001b[0m\u001b[0;34m)\u001b[0m\u001b[0;34m\u001b[0m\u001b[0;34m\u001b[0m\u001b[0m\n\u001b[1;32m    541\u001b[0m     \u001b[0mt\u001b[0m\u001b[0;34m,\u001b[0m \u001b[0mresult_t\u001b[0m \u001b[0;34m=\u001b[0m \u001b[0m_commonType\u001b[0m\u001b[0;34m(\u001b[0m\u001b[0ma\u001b[0m\u001b[0;34m)\u001b[0m\u001b[0;34m\u001b[0m\u001b[0;34m\u001b[0m\u001b[0m\n",
      "\u001b[0;32m~/opt/anaconda3/lib/python3.9/site-packages/numpy/linalg/linalg.py\u001b[0m in \u001b[0;36m_assert_stacked_2d\u001b[0;34m(*arrays)\u001b[0m\n\u001b[1;32m    194\u001b[0m     \u001b[0;32mfor\u001b[0m \u001b[0ma\u001b[0m \u001b[0;32min\u001b[0m \u001b[0marrays\u001b[0m\u001b[0;34m:\u001b[0m\u001b[0;34m\u001b[0m\u001b[0;34m\u001b[0m\u001b[0m\n\u001b[1;32m    195\u001b[0m         \u001b[0;32mif\u001b[0m \u001b[0ma\u001b[0m\u001b[0;34m.\u001b[0m\u001b[0mndim\u001b[0m \u001b[0;34m<\u001b[0m \u001b[0;36m2\u001b[0m\u001b[0;34m:\u001b[0m\u001b[0;34m\u001b[0m\u001b[0;34m\u001b[0m\u001b[0m\n\u001b[0;32m--> 196\u001b[0;31m             raise LinAlgError('%d-dimensional array given. Array must be '\n\u001b[0m\u001b[1;32m    197\u001b[0m                     'at least two-dimensional' % a.ndim)\n\u001b[1;32m    198\u001b[0m \u001b[0;34m\u001b[0m\u001b[0m\n",
      "\u001b[0;31mLinAlgError\u001b[0m: 0-dimensional array given. Array must be at least two-dimensional"
     ]
    }
   ],
   "source": [
    "np.linalg.in v(np.array(np.dot(EhatO.transpose(),EhatO))) "
   ]
  },
  {
   "cell_type": "code",
   "execution_count": 21,
   "id": "3c4f4d59-e825-4d62-b18a-f8a88e726301",
   "metadata": {},
   "outputs": [
    {
     "data": {
      "text/plain": [
       "(125000,)"
      ]
     },
     "execution_count": 21,
     "metadata": {},
     "output_type": "execute_result"
    }
   ],
   "source": [
    "np.repeat(C.EhatH, C.o, axis=0).flatten().shape"
   ]
  },
  {
   "cell_type": "code",
   "execution_count": 31,
   "id": "45f57866-8b46-486d-a8e9-a055ca0edf8e",
   "metadata": {},
   "outputs": [
    {
     "data": {
      "text/plain": [
       "2"
      ]
     },
     "execution_count": 31,
     "metadata": {},
     "output_type": "execute_result"
    }
   ],
   "source": [
    "np.dot(1,2)"
   ]
  },
  {
   "cell_type": "code",
   "execution_count": 13,
   "id": "c68b381c-8512-4b0c-acd9-091f55cd7b8b",
   "metadata": {},
   "outputs": [
    {
     "data": {
      "text/plain": [
       "array([1, 2, 1, 2, 1, 2, 3, 4, 3, 4, 3, 4])"
      ]
     },
     "execution_count": 13,
     "metadata": {},
     "output_type": "execute_result"
    }
   ],
   "source": [
    "x = np.array([[1,2],[3,4]])\n",
    "np.repeat(x, 3, axis=0)"
   ]
  },
  {
   "cell_type": "code",
   "execution_count": 2,
   "id": "7e5904c4-c126-436f-968e-fc19b1bb96ad",
   "metadata": {},
   "outputs": [
    {
     "data": {
      "text/plain": [
       "450"
      ]
     },
     "execution_count": 2,
     "metadata": {},
     "output_type": "execute_result"
    }
   ],
   "source": [
    "sizes = [75, 75, 300]\n",
    "probs = [[0.25, 0.05, 0.02], [0.05, 0.35, 0.07], [0.02, 0.07, 0.40]]\n",
    "g = nx.stochastic_block_model(sizes, probs, seed=None)\n",
    "len(g)\n",
    "\n",
    "\n"
   ]
  },
  {
   "cell_type": "code",
   "execution_count": 3,
   "id": "c720e9d8-fada-4c14-bfd2-689f5680c91b",
   "metadata": {},
   "outputs": [
    {
     "name": "stdout",
     "output_type": "stream",
     "text": [
      "0.255\n",
      "0.356\n",
      "0.397\n",
      "0.046\n",
      "0.021\n",
      "0.069\n"
     ]
    }
   ],
   "source": [
    "sizes = [75, 75, 300]\n",
    "probs = [[0.25, 0.05, 0.02], [0.05, 0.35, 0.07], [0.02, 0.07, 0.40]]\n",
    "g = nx.stochastic_block_model(sizes, probs, seed=None)\n",
    "len(g)\n",
    "\n",
    "H = nx.quotient_graph(g, g.graph[\"partition\"], relabel=True)\n",
    "for v in H.nodes(data=True):\n",
    "    print(round(v[1][\"density\"], 3))\n",
    "\n",
    "\n",
    "\n",
    "\n",
    "for v in H.edges(data=True):\n",
    "    print(round(1.0 * v[2][\"weight\"] / (sizes[v[0]] * sizes[v[1]]), 3))\n",
    "\n",
    "\n",
    "\n"
   ]
  },
  {
   "cell_type": "code",
   "execution_count": 301,
   "id": "cd31b4e6-0bb4-4da1-a458-78db7a5f8cab",
   "metadata": {},
   "outputs": [
    {
     "name": "stdout",
     "output_type": "stream",
     "text": [
      "1.0661152089803467 [1.99824834 0.49600032 3.01526818]\n"
     ]
    },
    {
     "data": {
      "text/plain": [
       "3.0152681788667755"
      ]
     },
     "execution_count": 301,
     "metadata": {},
     "output_type": "execute_result"
    }
   ],
   "source": [
    "C.estimate(C.E)"
   ]
  },
  {
   "cell_type": "code",
   "execution_count": 155,
   "id": "c48ef035-19eb-4711-8aea-a59d41c19727",
   "metadata": {},
   "outputs": [
    {
     "data": {
      "text/plain": [
       "0.1946938775510204"
      ]
     },
     "execution_count": 155,
     "metadata": {},
     "output_type": "execute_result"
    }
   ],
   "source": [
    "len(list(nx.edges(C.G))) /  (50*49)"
   ]
  },
  {
   "cell_type": "code",
   "execution_count": 303,
   "id": "9dceed79-fdfa-4eed-8f17-ad15eab310ff",
   "metadata": {},
   "outputs": [
    {
     "data": {
      "text/plain": [
       "442"
      ]
     },
     "execution_count": 303,
     "metadata": {},
     "output_type": "execute_result"
    }
   ],
   "source": [
    "len(list(nx.edges(C.G))) "
   ]
  },
  {
   "cell_type": "code",
   "execution_count": 304,
   "id": "f00cdff3-1c6f-476f-a605-5199e3ef81ba",
   "metadata": {},
   "outputs": [
    {
     "data": {
      "text/plain": [
       "783"
      ]
     },
     "execution_count": 304,
     "metadata": {},
     "output_type": "execute_result"
    }
   ],
   "source": [
    "len(list(nx.non_edges(C.G))) "
   ]
  },
  {
   "cell_type": "code",
   "execution_count": 53,
   "id": "2fb090af-62fb-4c92-a655-7ca5e59144f8",
   "metadata": {},
   "outputs": [
    {
     "data": {
      "text/plain": [
       "array([1, 1, 1])"
      ]
     },
     "execution_count": 53,
     "metadata": {},
     "output_type": "execute_result"
    }
   ],
   "source": [
    "np.random.randint(0, 2,10)"
   ]
  },
  {
   "cell_type": "code",
   "execution_count": 95,
   "id": "967b17c5-110e-4552-8d4d-ef15e19d004c",
   "metadata": {},
   "outputs": [
    {
     "ename": "NameError",
     "evalue": "name 'n' is not defined",
     "output_type": "error",
     "traceback": [
      "\u001b[0;31m---------------------------------------------------------------------------\u001b[0m",
      "\u001b[0;31mNameError\u001b[0m                                 Traceback (most recent call last)",
      "\u001b[0;32m/var/folders/mq/5nwv0wvd4pbg5sj9prh6kh_w0000gn/T/ipykernel_4122/1249512285.py\u001b[0m in \u001b[0;36m<module>\u001b[0;34m\u001b[0m\n\u001b[0;32m----> 1\u001b[0;31m \u001b[0mn\u001b[0m\u001b[0;34m\u001b[0m\u001b[0;34m\u001b[0m\u001b[0m\n\u001b[0m",
      "\u001b[0;31mNameError\u001b[0m: name 'n' is not defined"
     ]
    }
   ],
   "source": [
    "nx.set_node_attributes(n, x, \"X\")\n"
   ]
  },
  {
   "cell_type": "code",
   "execution_count": 117,
   "id": "8c3654bc-182d-437a-9230-ce43a3c93fc0",
   "metadata": {},
   "outputs": [
    {
     "data": {
      "text/plain": [
       "True"
      ]
     },
     "execution_count": 117,
     "metadata": {},
     "output_type": "execute_result"
    }
   ],
   "source": [
    "0.1 *0.6 == 0.1 * 0.6 / 0.4 * 0.4"
   ]
  },
  {
   "cell_type": "code",
   "execution_count": 92,
   "id": "cfb3d430-a4d1-46a1-b894-dada97f5ace7",
   "metadata": {},
   "outputs": [
    {
     "data": {
      "text/plain": [
       "array([False,  True, False])"
      ]
     },
     "execution_count": 92,
     "metadata": {},
     "output_type": "execute_result"
    }
   ],
   "source": [
    "np.array([1,1,2])==1 & (np.array([0,1,1]) == 1)"
   ]
  },
  {
   "cell_type": "code",
   "execution_count": 70,
   "id": "0ed8f884-2bca-4b84-a5a6-06e9e3331c91",
   "metadata": {},
   "outputs": [],
   "source": [
    "n = nx.gnp_random_graph(1000, 0.4, seed=None, directed=False)"
   ]
  },
  {
   "cell_type": "code",
   "execution_count": 78,
   "id": "0b94750d-4de7-4069-a4b3-d0e37e4678ca",
   "metadata": {},
   "outputs": [
    {
     "ename": "ValueError",
     "evalue": "maximum supported dimension for an ndarray is 32, found 299529",
     "output_type": "error",
     "traceback": [
      "\u001b[0;31m---------------------------------------------------------------------------\u001b[0m",
      "\u001b[0;31mValueError\u001b[0m                                Traceback (most recent call last)",
      "\u001b[0;32m/var/folders/mq/5nwv0wvd4pbg5sj9prh6kh_w0000gn/T/ipykernel_4122/3390941560.py\u001b[0m in \u001b[0;36m<module>\u001b[0;34m\u001b[0m\n\u001b[0;32m----> 1\u001b[0;31m \u001b[0mnp\u001b[0m\u001b[0;34m.\u001b[0m\u001b[0mrandom\u001b[0m\u001b[0;34m.\u001b[0m\u001b[0msample\u001b[0m\u001b[0;34m(\u001b[0m\u001b[0mlist\u001b[0m\u001b[0;34m(\u001b[0m\u001b[0mnx\u001b[0m\u001b[0;34m.\u001b[0m\u001b[0mnon_edges\u001b[0m\u001b[0;34m(\u001b[0m\u001b[0mn\u001b[0m\u001b[0;34m)\u001b[0m\u001b[0;34m)\u001b[0m\u001b[0;34m)\u001b[0m\u001b[0;34m\u001b[0m\u001b[0;34m\u001b[0m\u001b[0m\n\u001b[0m",
      "\u001b[0;32mmtrand.pyx\u001b[0m in \u001b[0;36mnumpy.random.mtrand.sample\u001b[0;34m()\u001b[0m\n",
      "\u001b[0;32mmtrand.pyx\u001b[0m in \u001b[0;36mnumpy.random.mtrand.RandomState.random_sample\u001b[0;34m()\u001b[0m\n",
      "\u001b[0;32m_common.pyx\u001b[0m in \u001b[0;36mnumpy.random._common.double_fill\u001b[0;34m()\u001b[0m\n",
      "\u001b[0;31mValueError\u001b[0m: maximum supported dimension for an ndarray is 32, found 299529"
     ]
    }
   ],
   "source": [
    "np.random.sample(list(nx.non_edges(n)))"
   ]
  },
  {
   "cell_type": "code",
   "execution_count": 48,
   "id": "66fd0825-264f-473a-96bd-7c4cfca4b500",
   "metadata": {},
   "outputs": [
    {
     "ename": "NameError",
     "evalue": "name 'self' is not defined",
     "output_type": "error",
     "traceback": [
      "\u001b[0;31m---------------------------------------------------------------------------\u001b[0m",
      "\u001b[0;31mNameError\u001b[0m                                 Traceback (most recent call last)",
      "\u001b[0;32m/var/folders/mq/5nwv0wvd4pbg5sj9prh6kh_w0000gn/T/ipykernel_6901/3188225664.py\u001b[0m in \u001b[0;36m<module>\u001b[0;34m\u001b[0m\n\u001b[0;32m----> 1\u001b[0;31m \u001b[0mself\u001b[0m\u001b[0;34m.\u001b[0m\u001b[0mX\u001b[0m\u001b[0;34m\u001b[0m\u001b[0;34m\u001b[0m\u001b[0m\n\u001b[0m",
      "\u001b[0;31mNameError\u001b[0m: name 'self' is not defined"
     ]
    }
   ],
   "source": [
    "self.X"
   ]
  },
  {
   "cell_type": "code",
   "execution_count": 99,
   "id": "72ab37b1-75a6-4a82-8141-255ffb2b4c5e",
   "metadata": {},
   "outputs": [],
   "source": [
    "degrees = [val for (node, val) in n.degree()]"
   ]
  },
  {
   "cell_type": "code",
   "execution_count": 100,
   "id": "da56c268-d2d4-4c25-a214-27f02b0dd074",
   "metadata": {},
   "outputs": [
    {
     "data": {
      "text/plain": [
       "[3, 2, 4, 3, 2, 1, 2, 2, 1, 2]"
      ]
     },
     "execution_count": 100,
     "metadata": {},
     "output_type": "execute_result"
    }
   ],
   "source": [
    "degrees"
   ]
  },
  {
   "cell_type": "code",
   "execution_count": 106,
   "id": "f7362d8e-c313-4040-a12b-6ee804b03269",
   "metadata": {},
   "outputs": [
    {
     "data": {
      "text/plain": [
       "array([0.33333333, 0.5       , 0.75      , 1.        , 1.        ,\n",
       "       0.        , 0.5       , 1.        , 0.        , 0.5       ])"
      ]
     },
     "execution_count": 106,
     "metadata": {},
     "output_type": "execute_result"
    }
   ],
   "source": [
    "np.array(x*A.todense())[0] / degrees"
   ]
  },
  {
   "cell_type": "code",
   "execution_count": null,
   "id": "be266d03-7695-47e4-aa8d-47754c90ab5d",
   "metadata": {},
   "outputs": [],
   "source": []
  },
  {
   "cell_type": "code",
   "execution_count": null,
   "id": "6856a303-19e0-4e10-b540-bba073a00ca6",
   "metadata": {},
   "outputs": [],
   "source": []
  },
  {
   "cell_type": "code",
   "execution_count": 43,
   "id": "f1920b29-3cf1-48b7-8252-28669b392811",
   "metadata": {},
   "outputs": [],
   "source": [
    "C_ = np.array(list(zip([0,0,0,1,0],[1,1,0,0,0],[0,0,1,0,0],[0,0,0,0,1])))\n",
    "w=[10,7,5,1]"
   ]
  },
  {
   "cell_type": "code",
   "execution_count": 44,
   "id": "158321d3-a2bb-480a-a764-6e69679b7182",
   "metadata": {},
   "outputs": [
    {
     "data": {
      "text/plain": [
       "array([ 7,  7,  5, 10,  1])"
      ]
     },
     "execution_count": 44,
     "metadata": {},
     "output_type": "execute_result"
    }
   ],
   "source": [
    "C_.dot([10,7,5,1])"
   ]
  },
  {
   "cell_type": "code",
   "execution_count": 27,
   "id": "f40f0dd2-d4fe-482c-8082-c85ce5f71e00",
   "metadata": {},
   "outputs": [
    {
     "data": {
      "text/plain": [
       "array([18, 20, 20, 20])"
      ]
     },
     "execution_count": 27,
     "metadata": {},
     "output_type": "execute_result"
    }
   ],
   "source": [
    "np.array([2,3,4]*np.matrix(list(zip([0,2,3],[1,2,3],[1,2,3],[1,2,3]))))[0]"
   ]
  },
  {
   "cell_type": "code",
   "execution_count": null,
   "id": "cc293e1f-ab15-4a40-9923-2ce1fcfbfb92",
   "metadata": {},
   "outputs": [],
   "source": [
    "\n"
   ]
  }
 ],
 "metadata": {
  "kernelspec": {
   "display_name": "Python 3 (ipykernel)",
   "language": "python",
   "name": "python3"
  },
  "language_info": {
   "codemirror_mode": {
    "name": "ipython",
    "version": 3
   },
   "file_extension": ".py",
   "mimetype": "text/x-python",
   "name": "python",
   "nbconvert_exporter": "python",
   "pygments_lexer": "ipython3",
   "version": "3.9.7"
  }
 },
 "nbformat": 4,
 "nbformat_minor": 5
}
